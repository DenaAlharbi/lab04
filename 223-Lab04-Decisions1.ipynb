{
 "cells": [
  {
   "attachments": {},
   "cell_type": "markdown",
   "metadata": {
    "slideshow": {
     "slide_type": "slide"
    }
   },
   "source": [
    "# ICS 104 - Introduction to Programming in Python and C\n",
    "## 223-Lab04-Decision Structures 1 "
   ]
  },
  {
   "attachments": {},
   "cell_type": "markdown",
   "metadata": {
    "slideshow": {
     "slide_type": "fragment"
    }
   },
   "source": [
    "# Lab Learning Outcomes\n",
    "- To learn how to program simple and complex decisions. \n",
    "- To implement decisions using if statements\n",
    "- To write statements using Boolean expressions"
   ]
  },
  {
   "attachments": {},
   "cell_type": "markdown",
   "metadata": {
    "slideshow": {
     "slide_type": "slide"
    }
   },
   "source": [
    "# Exercises  "
   ]
  },
  {
   "attachments": {},
   "cell_type": "markdown",
   "metadata": {},
   "source": [
    "### Exercise 1\n",
    "Write a program that reads in three integers and prints them in ascending order.<br>\n",
    "<br>\n",
    "Here is a sample run.<br>\n",
    "\n",
    "Enter three integers:<br>\n",
    "1 5 2<br>\n",
    "in ascending order: 1 2 5<br>\n",
    "\n",
    "Enter three integers:<br>\n",
    "1 5 1<br>\n",
    "in ascending order: 1 1 5<br>\n",
    "\n",
    "Enter three integers:<br>\n",
    "5 5 2<br>\n",
    "in ascending order: 2 5 5<br>"
   ]
  },
  {
   "cell_type": "code",
   "execution_count": 29,
   "metadata": {},
   "outputs": [
    {
     "name": "stdout",
     "output_type": "stream",
     "text": [
      "2 5 5\n"
     ]
    }
   ],
   "source": [
    "# Exercise # 1 - Source Code\n",
    "\n",
    "th1= input(\"Enter three integers: \")\n",
    "th2=input(\" \")\n",
    "th3=input(\" \")\n",
    "\n",
    "if th1<th2 and th2<th3:  \n",
    "    print(th1,th2,th3)\n",
    "elif th3<th2 and th2<th1: \n",
    "    print(th1,th2,th3)\n",
    "elif th3<th2 and th1<th2:  \n",
    "    if th3>th1:\n",
    "        print(th1,th3,th2)\n",
    "    else:\n",
    "        print(th3,th1,th2)\n",
    "elif th1==th2 and th1>th3:\n",
    "    print(th3,th1,th2)\n",
    "\n",
    "\n",
    "\n"
   ]
  },
  {
   "attachments": {},
   "cell_type": "markdown",
   "metadata": {
    "slideshow": {
     "slide_type": "slide"
    }
   },
   "source": [
    "## Exercise 2\n",
    "Write a program that translates a letter grade into a number grade. Letter grades are\n",
    "A+, A, B+, B, C+, C, D+, D, and F. \n",
    "Their numeric values are 4, 3.75, 3.5, 3, 2.5, 2, 1.5, 1, and 0.<br>\n",
    "<br>\n",
    "Here is a sample run.<br>\n",
    "\n",
    "Enter a letter grade: B+<br>\n",
    "The numeric value is 3.5<br>\n",
    "<br>\n",
    "Enter a letter grade: X<br>\n",
    "Invalid letter grade<br>"
   ]
  },
  {
   "cell_type": "code",
   "execution_count": null,
   "metadata": {
    "slideshow": {
     "slide_type": "-"
    }
   },
   "outputs": [],
   "source": [
    "# Exercise # 2 - Source Code\n",
    "thein1=input(\"Enter a letter grade: \")\n",
    "if thein1==\"A+\":\n",
    "    print(\"The numeric value is 4 \")\n",
    "elif thein1==\"A\":\n",
    "    print(\"The numeric value is 3.75 \")\n",
    "elif thein1==\"B+\":\n",
    "    print(\"The numeric value is 3.5\")\n",
    "elif thein1==\"B\":\n",
    "    print(\"The numeric value is 3\")\n",
    "elif thein1==\"C+\":\n",
    "    print(\"The numeric value is 2.5\")\n",
    "elif thein1==\"C\":\n",
    "    print(\"The numeric value is 2\")\n",
    "elif thein1==\"D+\":\n",
    "    print(\"The numeric value is 1.5\")\n",
    "elif thein1==\"D\":\n",
    "    print(\"The numeric value is 1 \")\n",
    "elif thein1==\"F\":\n",
    "    print(\"The numeric value is 0\")\n",
    "else:\n",
    "    print(\"Invalid letter grade\")"
   ]
  },
  {
   "attachments": {},
   "cell_type": "markdown",
   "metadata": {},
   "source": [
    "## Exercise 3\n",
    "When you use an automated teller machine (ATM) with your bank card, you need to\n",
    "use a personal identification number (PIN) to access your account. If a user fails\n",
    "more than three times when entering the PIN, the machine will block the card.\n",
    "Assume that the user's PIN is \"1234\" and write a program that asks the user for the\n",
    "PIN no more than three times, and does the following:\n",
    "- If the user enters the right number, print a message saying, \"Your PIN is correct\", and end the program.\n",
    "- If the user enters a wrong number, print a message saying, \"Your PIN is incorrect\" and, if you have asked for the PIN less than three times, ask for it again.\n",
    "- If the user enters a wrong number three times, print a message saying \"Your bank card is blocked\" and end the program."
   ]
  },
  {
   "cell_type": "code",
   "execution_count": 23,
   "metadata": {},
   "outputs": [
    {
     "name": "stdout",
     "output_type": "stream",
     "text": [
      "Your PIN is incorrect\n",
      "Your PIN is correct\n"
     ]
    }
   ],
   "source": [
    "# Exercise # 3 - Source Code\n",
    "PIN=\"1234\"\n",
    "\n",
    "trys=0\n",
    "while trys<3:\n",
    "    thein2=input(\"Enter the card PIN: \")\n",
    "    if thein2==PIN:\n",
    "        print(\"Your PIN is correct\")\n",
    "        break\n",
    "    elif thein2!=PIN:\n",
    "        print(\"Your PIN is incorrect\")\n",
    "        trys+=1\n",
    "\n",
    "\n",
    "\n"
   ]
  }
 ],
 "metadata": {
  "celltoolbar": "Slideshow",
  "kernelspec": {
   "display_name": "Python 3 (ipykernel)",
   "language": "python",
   "name": "python3"
  },
  "language_info": {
   "codemirror_mode": {
    "name": "ipython",
    "version": 3
   },
   "file_extension": ".py",
   "mimetype": "text/x-python",
   "name": "python",
   "nbconvert_exporter": "python",
   "pygments_lexer": "ipython3",
   "version": "3.11.4"
  },
  "rise": {
   "theme": "yellow"
  },
  "toc": {
   "base_numbering": 1,
   "nav_menu": {},
   "number_sections": true,
   "sideBar": true,
   "skip_h1_title": false,
   "title_cell": "Table of Contents",
   "title_sidebar": "Contents",
   "toc_cell": false,
   "toc_position": {
    "height": "131px",
    "left": "781px",
    "top": "290px",
    "width": "221px"
   },
   "toc_section_display": true,
   "toc_window_display": false
  },
  "varInspector": {
   "cols": {
    "lenName": 16,
    "lenType": 16,
    "lenVar": 40
   },
   "kernels_config": {
    "python": {
     "delete_cmd_postfix": "",
     "delete_cmd_prefix": "del ",
     "library": "var_list.py",
     "varRefreshCmd": "print(var_dic_list())"
    },
    "r": {
     "delete_cmd_postfix": ") ",
     "delete_cmd_prefix": "rm(",
     "library": "var_list.r",
     "varRefreshCmd": "cat(var_dic_list()) "
    }
   },
   "types_to_exclude": [
    "module",
    "function",
    "builtin_function_or_method",
    "instance",
    "_Feature"
   ],
   "window_display": false
  }
 },
 "nbformat": 4,
 "nbformat_minor": 4
}
